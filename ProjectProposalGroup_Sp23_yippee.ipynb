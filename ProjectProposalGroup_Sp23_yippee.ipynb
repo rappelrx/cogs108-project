{
 "cells": [
  {
   "cell_type": "markdown",
   "metadata": {},
   "source": [
    "# COGS 108 - Final Project Proposal"
   ]
  },
  {
   "attachments": {},
   "cell_type": "markdown",
   "metadata": {},
   "source": [
    "# Names\n",
    "\n",
    "- Mariana Villena\n",
    "- Akanksha Pandey\n",
    "- Rappel Ricafort\n",
    "- Justin Lau\n",
    "- Amaar Valliani"
   ]
  },
  {
   "cell_type": "markdown",
   "metadata": {},
   "source": [
    "# Research Question"
   ]
  },
  {
   "attachments": {},
   "cell_type": "markdown",
   "metadata": {},
   "source": [
    "What are the key success factors for electric vehicle companies in terms of pricing, product features, and marketing strategies?\n",
    "\n",
    "Subquestions:\n",
    "- How has Tesla's success been affected by classical and/or emerging car companies' EV models?\n",
    "- How have emerging EV companies entered the market and what success have they had?\n",
    "    i.e. flagship products (and their success), marketing strategy, and differentiating factors\n",
    "- When did Classical car companies enter the EV market and how successful were they?\n",
    "\n",
    "*Success factors could be measured in market share, stock price, units sold, profit margins, etc.*"
   ]
  },
  {
   "cell_type": "markdown",
   "metadata": {},
   "source": [
    "## Background and Prior Work"
   ]
  },
  {
   "attachments": {},
   "cell_type": "markdown",
   "metadata": {},
   "source": [
    "A surge in the electric vehicle (EV) interest seems to be greatly influenced by rising gasoline prices and a growing concern for carbon pollution. Consumer demand for EVs have risen increasingly as evident by trends we can observe in the market. The well-known Toyota Prius was a widely popular hybrid electric vehicle that became one of the best-selling vehicles in the industry starting in the early 2000s. The transition toward fully electric vehicles appears to be imminent, as policies and tax incentives are being implemented in favor of EVs. For instance, Tesla Motors became one of the largest auto industry employers, and would start producing the best-selling EV (Model 3) in 2020, which offered a $7500 tax incentive [^Holland]. Despite looming quality control issues regarding Tesla vehicles, its impact far surpassed and outsold other notable flagship EVs such as the Nissan Leaf or Chevy Volt. This research will determine the success of car companies in the EV market, and explore the effects of emerging competition on Tesla’s success. With differences in product features and marketing strategies, the competition between new EV companies and classical car companies delving more into EV production are obscure.\n",
    "\n",
    "Prior studies have demonstrated previous factors that may have contributed to growth in the electric vehicle market. A study on Tesla valuation concluded that although clean energy transport and production is growing, Tesla’s true market value is determined to be overvalued as of 2021, suggesting that dominant market control and technological innovations are overestimated in worth [^Liu]. The study evaluates the company’s stock price to its earnings (P/E), and acknowledges technological innovations of Tesla - such as the self-driving algorithm - to be “priced-in” to the valuation of Tesla, as well as contributing to its dominating market share. The study utilizes another valuation metric similar to P/E which compares enterprise value to earnings before tax, interest, depreciation, and amortization (EV/EBITDA). Tesla had a much higher ratio when compared to the rest of the market, indicating that Tesla’s profitability is not as high compared to the price of its stock.\n",
    "\n",
    "\n",
    "References:\n",
    "\n",
    "[^Holland]: Holland, M. (10 February 2020). \"Tesla Passes 1 Million EV Milestone & Model 3 Becomes All Time Best Seller\". CleanTechnica. Archived from the original on 12 April 2020. Retrieved 23 May 2020.\n",
    "\n",
    "[^Liu]: Liu, S. (2021, March 1). Competition and Valuation: A Case Study of Tesla Motors. IOP Conference Series: Earth and Environmental Science. Retrieved May 2, 2023. Full pdf: https://iopscience.iop.org/article/10.1088/1755-1315/692/2/022103/pdf"
   ]
  },
  {
   "cell_type": "markdown",
   "metadata": {},
   "source": [
    "# Hypothesis\n"
   ]
  },
  {
   "attachments": {},
   "cell_type": "markdown",
   "metadata": {},
   "source": [
    "Regarding some of the trends and successes of EV companies, we believe that Tesla would have gained initial success versus Classical companies with innovative ideas, such as auto-drive, and early-mover advantage into the market but will see recent losses to emerging EV companies who aim to follow Tesla's methods while adding their own improvements. Emerging EV companies will have the most success with higher-end models which are targeted to early adopters and consumers with buying power to test new vehicles. The timing of Classical car companies entering the market will not play a significant role in their later success due to failed models from early adopters, such as Nissan Leaf or Chevy Volt, while these companies are now gaining ground with lower-priced and relatively advanced EVs."
   ]
  },
  {
   "cell_type": "markdown",
   "metadata": {},
   "source": [
    "# Data"
   ]
  },
  {
   "attachments": {},
   "cell_type": "markdown",
   "metadata": {},
   "source": [
    "1. Explain what the **ideal** dataset you would want to answer this question. (This should include: What variables? How many observations? Who/what/how would these data be collected? How would these data be stored/organized?)\n",
    "\n",
    "The ideal data set would include 200-300 observations of EV vehicles and information like battery capacity, battery type, company, motor type, top speed, range, price, features, and units sold. Data regarding the car companies with EVs would also be necessary with information on the changes in company size, revenue, stock price, and market share, all over time so we can measure the success of a company.\n",
    "\n",
    "This data is publicly available information so it could be collected relatively easily using web scraping or manual retrieval as there are not many observations available due to EVs still being an emerging product- so the data would be limited to specifications of EV models that have been released. \n",
    "\n",
    "Additionally, we may want information regarding EV/classic car company stocks and overall performance related to the EV models’ success- some of this information would be relatively public, so we could utilize web scraping to obtain company performance data. \n",
    "\n",
    "These datasets should be stored in various CSV files after they are cleaned, depending on if the data is related to information about a company or car. \n",
    "\n",
    "2. Search for potential **real** datasets that could provide you with something useful for this project.  You do not have to find every piece of data you will use, but you do need to have demonstrated some idea that (a) this data is gettable and (b) that this data may be different from what your ideal is\n",
    "\n",
    "\n",
    "|Link|About|Form of Data|\n",
    "|----|-----|------------|\n",
    "https://www.iea.org/reports/global-ev-outlook-2022/financial-performance-of-ev-related-company-stocks#abstract | provides price, performance, and specifications of EV models | Unordered, needs Web Scraping\n",
    "https://www.kaggle.com/datasets/meetnagadia/share-price-of-top-electric-car-company | stock information of some major car manufacturers and some emerging EV companies (missing some companies), all EV-related | Multiple CSV Files\n",
    "https://ev-database.org/ | provides price, performance, and specifications of EV models | Database\n",
    "https://www.kaggle.com/datasets/kkhandekar/cheapest-electric-cars | 308 EV models with specifications and price, scraped off https://ev-database.org/ |Single CSV File\n",
    "https://www.kaggle.com/datasets/whenamancodes/tesla-inc-stock-market-analysis-founding-years | data set for the stock prices and related statistics for Tesla which is important as one of our subquestions is dedicated to viewing the changes in the success of Tesla|Single CSV File\n",
    "\n",
    "Looking at some of our real datasets, it is apparent that most of the information we would like is available and in CSV files ready to use while other data may need to be scraped or found to supplement the already existing data. We can also see that the data is separated across different datasets so we would need to combine the pieces to form a few coherent datasets.\n"
   ]
  },
  {
   "cell_type": "markdown",
   "metadata": {},
   "source": [
    "# Ethics & Privacy"
   ]
  },
  {
   "attachments": {},
   "cell_type": "markdown",
   "metadata": {},
   "source": [
    "- Are there any biases/privacy/terms of use issues with the data you proposed?\n",
    "  - Our data does not have many issues in the case of privacy as the information that we are dealing with is all public and actively distributed by the sources (the car companies themselves) with the exception of private companies who may not reveal as much internal information as public ones which could either lead to missing or estimated data\n",
    "  - One bias that could crop up is that some companies may provide details about their vehicles that is not accurately verifiable and thus could be subject to a bias for the company with embellished specifications about the car.\n",
    "- Are there potential biases in your dataset(s), in terms of who it composes, and how it was collected, that may be problematic in terms of it allowing for equitable analysis? (For example, does your data exclude particular populations, or is it likely to reflect particular human biases in a way that could be a problem?)\n",
    "  - Some of the data we are looking at, such as the [EVDB](https://ev-database.org/), is a database on EVs. It was collected completely independently without any outside funding (funded only through ads) for the sake of making EV information more accessible. The information is put up based on outlined criteria, which they disclose, and they actively try to get the most accurate information by inviting people to enter any discrepancies they may see with the data.\n",
    "  -  One limitation of our data is that some sources only consider EVs available in certain markets, such as the [EVDB](https://ev-database.org/) as it only has information of EVs in the Netherlands, the United Kingdom, and Germany, thus excluding all other EV markets.\n",
    "  -  Some EV companies may be relatively new so they may not have much information available and some also may not have information available in English which would make it a challenge for data collection from English speaking sources\n",
    "- How will you set out to detect these specific biases before, during, and after/when communicating your analysis?\n",
    "  - Analyze demographic data to make sure the data is representative. For example, some demographic groups may prefer traditional cars over electric vehicles, or there may exist opposition to electric vehicle companies among certain demographic groups. So, it is important to include these groups in the data to have honest representation.\n",
    "  - Check for human biases (e.g., confirmation bias, stereotypes) when communicating our analysis, by looking at the data wholistically and evaluating the impacts of our assumptions.\n",
    "- Are there any other issues related to your topic area, data, and/or analyses that are potentially problematic in terms of data privacy and equitable impact?\n",
    "  - There may exist unethical marketing practices that EV companies may use\n",
    "  - Some databases may have protections placed upon their data, such as dis-allowing automated collection of the data or requiring permission be asked and granted before database use\n",
    "- How will you handle issues you identified?\n",
    "  - When data wrangling, make sure to remove data that isn’t relevant for analysis, in order to minimize exposure of personally identifiable information.\n",
    "  - Make sure to ask for permissions to access any protected data and/or attempt manual data collection if automated collection is not allowed"
   ]
  },
  {
   "cell_type": "markdown",
   "metadata": {},
   "source": [
    "# Team Expectations "
   ]
  },
  {
   "attachments": {},
   "cell_type": "markdown",
   "metadata": {},
   "source": [
    "* Post standups on discord every lecture day. \n",
    "* Be active on discord- check discord at the least once a day. \n",
    "* Team meeting at least once a week (currently Tuesday 6pm). \n",
    "* Resolve conflicts between members with one-on-one meetings, or else meet with the entire group, or finally the TA. \n",
    "* Keep GitHub issues updated with what each of us are working on. "
   ]
  },
  {
   "cell_type": "markdown",
   "metadata": {},
   "source": [
    "# Project Timeline Proposal"
   ]
  },
  {
   "attachments": {},
   "cell_type": "markdown",
   "metadata": {},
   "source": [
    "| Meeting Date  | Meeting Time| Completed Before Meeting  | Discuss at Meeting |\n",
    "|---|---|---|---|\n",
    "| 4/26  |  5 PM | Read & Think about COGS 108 expectations  | Determine best form of communication; Complete project review form | \n",
    "| 5/2  |  6 PM | brainstorm topics/questions | Discuss and decide on final project topic; Discuss ideal dataset(s) and ethics; complete project proposal | \n",
    "| 5/9  | 6 PM  | Review project proposal feedback and make changes if needed; Search for datasets  | Discuss Wrangling and possible analytical approaches; Assign group members to lead each specific part   |\n",
    "| 5/16  | 6 PM  | Import & Wrangle Data (Rappel; Justin); EDA (Akanksha, Mariana, Amaar) | Review/Edit wrangling/EDA; Discuss Analysis Plan; Complete project checkpoint #1\n",
    "| 5/23  | 6 PM  | Finalize wrangling/EDA (Akanksha, Mariana, Amaar); Begin Analysis (Rappel; Justin) | Discuss/edit Analysis \n",
    "| 5/30  | 6 PM  | Work on analysis (Akanksha, Mariana), and Visualizations (Rappel); Draft results/conclusion/discussion (Justin, Amaar) | Complete project checkpoint #2\n",
    "| 6/6  | 6 PM  | Complete analysis (Akanksha, Mariana), and Visualizations (Rappel); Draft results/conclusion/discussion (Justin, Amaar) | Review results and finished analysis; Wrap up project\n",
    "| 6/14  | Before 11:59 PM  | NA | Turn in Final Project & Group Project Surveys |"
   ]
  },
  {
   "cell_type": "markdown",
   "metadata": {},
   "source": []
  }
 ],
 "metadata": {
  "kernelspec": {
   "display_name": "Python 3",
   "language": "python",
   "name": "python3"
  },
  "language_info": {
   "codemirror_mode": {
    "name": "ipython",
    "version": 3
   },
   "file_extension": ".py",
   "mimetype": "text/x-python",
   "name": "python",
   "nbconvert_exporter": "python",
   "pygments_lexer": "ipython3",
   "version": "3.10.4"
  },
  "vscode": {
   "interpreter": {
    "hash": "aee8b7b246df8f9039afb4144a1f6fd8d2ca17a180786b69acc140d282b71a49"
   }
  }
 },
 "nbformat": 4,
 "nbformat_minor": 2
}
